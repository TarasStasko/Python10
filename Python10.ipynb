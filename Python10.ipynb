{
  "nbformat": 4,
  "nbformat_minor": 0,
  "metadata": {
    "colab": {
      "provenance": [],
      "authorship_tag": "ABX9TyP9NBSgfRTD93qtaUprfZJ4",
      "include_colab_link": true
    },
    "kernelspec": {
      "name": "python3",
      "display_name": "Python 3"
    },
    "language_info": {
      "name": "python"
    }
  },
  "cells": [
    {
      "cell_type": "markdown",
      "metadata": {
        "id": "view-in-github",
        "colab_type": "text"
      },
      "source": [
        "<a href=\"https://colab.research.google.com/github/TarasStasko/Python10/blob/main/Python10.ipynb\" target=\"_parent\"><img src=\"https://colab.research.google.com/assets/colab-badge.svg\" alt=\"Open In Colab\"/></a>"
      ]
    },
    {
      "cell_type": "code",
      "execution_count": null,
      "metadata": {
        "id": "PIKlHVb5Y1Wp"
      },
      "outputs": [],
      "source": [
        "import pandas as pd\n",
        "\n",
        "titanic_data = pd.read_csv('train.csv')\n",
        "\n",
        "print(titanic_data.info())\n",
        "\n",
        "print(titanic_data.head())\n"
      ]
    },
    {
      "cell_type": "code",
      "source": [
        "import pandas as pd\n",
        "import matplotlib.pyplot as plt\n",
        "\n",
        "titanic_data = pd.read_csv('train.csv')\n",
        "\n",
        "survived_count = titanic_data['Survived'].value_counts()\n",
        "\n",
        "plt.figure(figsize=(8, 6))\n",
        "plt.pie(survived_count, labels=['Not Survived', 'Survived'], autopct='%1.1f%%', colors=['lightcoral', 'lightskyblue'], startangle=140)\n",
        "plt.title('Survival Rate on Titanic')\n",
        "plt.axis('equal')\n",
        "plt.show()\n"
      ],
      "metadata": {
        "id": "ojTVeklNbB4S"
      },
      "execution_count": null,
      "outputs": []
    },
    {
      "cell_type": "markdown",
      "source": [
        "Отримана діаграма показує співвідношення між вижившими та загиблими пасажирами. Вона вказує, що приблизно 62% пасажирів загинуло, а 38% вижили."
      ],
      "metadata": {
        "id": "orrPvHGapGeh"
      }
    },
    {
      "cell_type": "code",
      "source": [
        "import pandas as pd\n",
        "import matplotlib.pyplot as plt\n",
        "\n",
        "titanic_data = pd.read_csv('train.csv')\n",
        "\n",
        "survival_gender_count = titanic_data.groupby(['Sex', 'Survived'], as_index=False).size()\n",
        "\n",
        "total_passengers_gender = survival_gender_count.groupby('Sex')['size'].sum()\n",
        "\n",
        "not_survived_count = survival_gender_count[survival_gender_count['Survived'] == 0]\n",
        "\n",
        "not_survived_count = pd.merge(not_survived_count, total_passengers_gender, on='Sex', suffixes=('_not_survived', '_total'))\n",
        "\n",
        "not_survived_count['Percentage'] = (not_survived_count['size_not_survived'] / not_survived_count['size_total']) * 100\n",
        "\n",
        "plt.figure(figsize=(10, 6))\n",
        "plt.bar(not_survived_count['Sex'], not_survived_count['Percentage'], color=['lightcoral', 'lightskyblue'])\n",
        "plt.title('Percentage of Not Survived Passengers by Gender')\n",
        "plt.xlabel('Gender')\n",
        "plt.ylabel('Percentage of Not Survived Passengers')\n",
        "plt.xticks(rotation=45)\n",
        "plt.show()\n"
      ],
      "metadata": {
        "id": "afaxL8o0bO7O"
      },
      "execution_count": null,
      "outputs": []
    },
    {
      "cell_type": "markdown",
      "source": [
        "Діаграма показує відсоток загиблих пасажирів для кожної статі"
      ],
      "metadata": {
        "id": "ORIVdgoCpEZp"
      }
    },
    {
      "cell_type": "code",
      "source": [
        "import pandas as pd\n",
        "import matplotlib.pyplot as plt\n",
        "\n",
        "titanic_data = pd.read_csv('train.csv')\n",
        "\n",
        "missing_values_count = titanic_data.isnull().sum()\n",
        "\n",
        "plt.figure(figsize=(10, 6))\n",
        "missing_values_count.plot(kind='bar', color='skyblue')\n",
        "plt.title('Missing Values Count by Variable')\n",
        "plt.xlabel('Variable')\n",
        "plt.ylabel('Count of Missing Values')\n",
        "plt.xticks(rotation=45)\n",
        "plt.show()\n"
      ],
      "metadata": {
        "id": "wIRZZoJaiz6V"
      },
      "execution_count": null,
      "outputs": []
    },
    {
      "cell_type": "markdown",
      "source": [
        "Ця діаграма показує кількість пропущених значень для кожної змінної у датасеті."
      ],
      "metadata": {
        "id": "ihIkFOXApB8i"
      }
    },
    {
      "cell_type": "code",
      "source": [
        "import pandas as pd\n",
        "import matplotlib.pyplot as plt\n",
        "\n",
        "titanic_data = pd.read_csv('train.csv')\n",
        "\n",
        "plt.figure(figsize=(10, 6))\n",
        "plt.hist(titanic_data['Age'].dropna(), bins=20, color='skyblue', edgecolor='black')\n",
        "plt.title('Distribution of Passenger Ages')\n",
        "plt.xlabel('Age')\n",
        "plt.ylabel('Frequency')\n",
        "plt.show()\n"
      ],
      "metadata": {
        "id": "DyVAERgOj-fh"
      },
      "execution_count": null,
      "outputs": []
    },
    {
      "cell_type": "markdown",
      "source": [
        " Вісь X представляє вік, розділений на різні інтервали, тоді як вісь Y відображає частоту або кількість пасажирів у кожному віковому інтервалі.\n",
        ""
      ],
      "metadata": {
        "id": "3DwU9aKVo9dm"
      }
    },
    {
      "cell_type": "markdown",
      "source": [
        "Бізнес-питання: Яка залежність між класом квитка і виживанням пасажирів на Титаніку?"
      ],
      "metadata": {
        "id": "J_1qF2UZo2Oq"
      }
    },
    {
      "cell_type": "code",
      "source": [
        "import pandas as pd\n",
        "import matplotlib.pyplot as plt\n",
        "\n",
        "titanic_data = pd.read_csv('train.csv')\n",
        "\n",
        "survival_class_count = titanic_data.groupby(['Pclass', 'Survived']).size()\n",
        "\n",
        "total_passengers_class = titanic_data.groupby('Pclass')['PassengerId'].count()\n",
        "\n",
        "survived_percentage = (survival_class_count.unstack() / total_passengers_class) * 100\n",
        "\n",
        "survived_percentage.plot(kind='bar', stacked=True, color=['lightcoral', 'lightskyblue'], figsize=(10, 6), legend=None)\n",
        "plt.title('Survival Rate by Ticket Class')\n",
        "plt.xlabel('Ticket Class')\n",
        "plt.ylabel('Percentage of Passengers')\n",
        "plt.xticks(rotation=0)\n",
        "plt.show()\n"
      ],
      "metadata": {
        "id": "Yd9r_qbjmSMH"
      },
      "execution_count": null,
      "outputs": []
    },
    {
      "cell_type": "markdown",
      "source": [
        "Отримана відповідь дозволяє нам оцінити, як виживання пасажирів розподілене між різними класами квитків."
      ],
      "metadata": {
        "id": "Y6hN_VaPo6yi"
      }
    }
  ]
}